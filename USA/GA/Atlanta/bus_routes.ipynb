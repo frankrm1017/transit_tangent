{
 "cells": [
  {
   "cell_type": "code",
   "execution_count": 4,
   "metadata": {},
   "outputs": [],
   "source": [
    "import geojson\n",
    "import matplotlib.pyplot as plt\n",
    "#from shapely.geometry import Point\n",
    "import shapely \n",
    "import geopandas as gpd\n",
    "from geopandas import GeoDataFrame\n",
    "import urllib.request, json \n",
    "def sinuosity(geom):\n",
    "    assert geom.geom_type == \"LineString\" or geom.geom_type == \"MultiLineString\", geom.geom_type\n",
    "    length = geom.length\n",
    "    start_pt = geom.interpolate(0)\n",
    "    end_pt = geom.interpolate(1, normalized=True)\n",
    "    straight_dist = start_pt.distance(end_pt)\n",
    "    if straight_dist == 0.0:\n",
    "        if length == 0.0:\n",
    "            return 0.0\n",
    "        return float(\"inf\")\n",
    "    return length / straight_dist\n",
    "\n",
    "dataurl=\"https://services5.arcgis.com/5RxyIIJ9boPdptdo/arcgis/rest/services/MARTA_Routes/FeatureServer/0/query?outFields=*&where=1%3D1&f=geojson\"\n",
    "\n",
    "with urllib.request.urlopen(dataurl) as url:\n",
    "    routes = geojson.load(url)"
   ]
  },
  {
   "cell_type": "markdown",
   "metadata": {},
   "source": [
    "# Cardinality"
   ]
  },
  {
   "cell_type": "markdown",
   "metadata": {},
   "source": [
    "## Lines that Are not straight"
   ]
  },
  {
   "cell_type": "code",
   "execution_count": 8,
   "metadata": {},
   "outputs": [],
   "source": [
    "df=gpd.GeoDataFrame(routes['features'])"
   ]
  },
  {
   "cell_type": "code",
   "execution_count": 10,
   "metadata": {},
   "outputs": [],
   "source": [
    "df1=[]\n",
    "for n,i in enumerate(df['geometry']):\n",
    "    x=df['geometry'][n]\n",
    "    if sinuosity(x) >= 2:\n",
    "        df1.append(df.iloc[n])"
   ]
  },
  {
   "cell_type": "code",
   "execution_count": 17,
   "metadata": {},
   "outputs": [
    {
     "name": "stdout",
     "output_type": "stream",
     "text": [
      "Total Lines that are not straight: 103\n",
      "Total Lines in System: 394\n",
      "Percent Not straight: 26.14213197969543%\n"
     ]
    }
   ],
   "source": [
    "print(\"Total Lines that are not straight: \" + str(len(df1)))\n",
    "print(\"Total Lines in System: \"+ str(len(df)))\n",
    "print(\"Percent Not straight: \" + str((len(df1)/len(df))*100) + \"%\")"
   ]
  },
  {
   "cell_type": "markdown",
   "metadata": {},
   "source": [
    "# Length\n",
    "## Lines that are too long"
   ]
  },
  {
   "cell_type": "code",
   "execution_count": null,
   "metadata": {},
   "outputs": [],
   "source": []
  },
  {
   "cell_type": "markdown",
   "metadata": {},
   "source": [
    "# Intersections"
   ]
  },
  {
   "cell_type": "markdown",
   "metadata": {},
   "source": [
    "## "
   ]
  },
  {
   "cell_type": "code",
   "execution_count": null,
   "metadata": {},
   "outputs": [],
   "source": []
  },
  {
   "cell_type": "markdown",
   "metadata": {},
   "source": [
    "# Sinage"
   ]
  },
  {
   "cell_type": "code",
   "execution_count": null,
   "metadata": {},
   "outputs": [],
   "source": []
  },
  {
   "cell_type": "markdown",
   "metadata": {},
   "source": [
    "# Stops"
   ]
  },
  {
   "cell_type": "code",
   "execution_count": null,
   "metadata": {},
   "outputs": [],
   "source": []
  },
  {
   "cell_type": "markdown",
   "metadata": {},
   "source": [
    "# Frequency"
   ]
  },
  {
   "cell_type": "code",
   "execution_count": null,
   "metadata": {},
   "outputs": [],
   "source": []
  }
 ],
 "metadata": {
  "kernelspec": {
   "display_name": "Python 3",
   "language": "python",
   "name": "python3"
  },
  "language_info": {
   "codemirror_mode": {
    "name": "ipython",
    "version": 3
   },
   "file_extension": ".py",
   "mimetype": "text/x-python",
   "name": "python",
   "nbconvert_exporter": "python",
   "pygments_lexer": "ipython3",
   "version": "3.8.5"
  }
 },
 "nbformat": 4,
 "nbformat_minor": 4
}
